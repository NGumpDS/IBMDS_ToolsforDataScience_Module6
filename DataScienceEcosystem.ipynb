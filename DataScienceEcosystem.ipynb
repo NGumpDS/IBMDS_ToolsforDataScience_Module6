{
 "cells": [
  {
   "cell_type": "markdown",
   "id": "fae67968-3454-4ef3-a29b-73db71bcb949",
   "metadata": {},
   "source": [
    "# Data Science Tools and Ecosystem"
   ]
  },
  {
   "cell_type": "markdown",
   "id": "c5bd80f6-e467-43cc-a193-8b9f736ce974",
   "metadata": {},
   "source": [
    "In this notebook, Data Science Tools and Ecosystem are summarized."
   ]
  },
  {
   "cell_type": "markdown",
   "id": "a272b1c3-c18a-4dca-b907-87869d2e4726",
   "metadata": {},
   "source": [
    "**Objectives:**\n",
    "\n",
    "* List popular languages for Data Science\n",
    "* List commonly used Data Science librarys\n",
    "* Table Data Science Tools"
   ]
  },
  {
   "cell_type": "markdown",
   "id": "520d2e4d-693a-4ac8-9d2b-b87c482126a3",
   "metadata": {},
   "source": [
    "Some of the popular languages that Data Scientists use are:\n",
    "\n",
    "1. Python\n",
    "2. R\n",
    "3. Java"
   ]
  },
  {
   "cell_type": "markdown",
   "id": "aae8d287-c1cc-45b2-9fad-c728e664b97c",
   "metadata": {},
   "source": [
    "Some of the commonly used libraries used by Data Scientists include:\n",
    "\n",
    "* NumPy\n",
    "* Matplotlib\n",
    "* Plotly"
   ]
  },
  {
   "cell_type": "markdown",
   "id": "f429a5e4-1a93-4d6e-8540-f087bbf151b1",
   "metadata": {},
   "source": [
    "|Data Science Tools |\n",
    "|-------------|\n",
    "|Apache Spark |\n",
    "|Pandas | \n",
    "|Jupyter Notebook | "
   ]
  },
  {
   "cell_type": "markdown",
   "id": "81eb7d2d-f2fe-4d19-a5e6-f946b01067fd",
   "metadata": {},
   "source": [
    "### Below are a few examples of evaluating arithmetic expressions in Python"
   ]
  },
  {
   "cell_type": "code",
   "execution_count": 5,
   "id": "75e7d576-5e1b-494b-ace2-1a29c31e1545",
   "metadata": {},
   "outputs": [
    {
     "data": {
      "text/plain": [
       "17"
      ]
     },
     "execution_count": 5,
     "metadata": {},
     "output_type": "execute_result"
    }
   ],
   "source": [
    "# This a simple arithmetic expression to mutiply then add integers\n",
    "(3*4)+5"
   ]
  },
  {
   "cell_type": "code",
   "execution_count": 9,
   "id": "2c43ec00-31a1-4e36-a7b0-67c33fc9b778",
   "metadata": {},
   "outputs": [],
   "source": [
    "# This will convert 200 minutes to hours by diving by 60\n",
    "hours = 200 / 60"
   ]
  },
  {
   "cell_type": "code",
   "execution_count": 8,
   "id": "3f9c5fa7-36ef-4703-af84-e391f4080ac6",
   "metadata": {},
   "outputs": [
    {
     "data": {
      "text/plain": [
       "3.3333333333333335"
      ]
     },
     "execution_count": 8,
     "metadata": {},
     "output_type": "execute_result"
    }
   ],
   "source": [
    "hours"
   ]
  },
  {
   "cell_type": "markdown",
   "id": "561a09cd-b45d-4cec-b2b8-e4ab6323432b",
   "metadata": {},
   "source": [
    "## Author\n",
    "Nicolas"
   ]
  }
 ],
 "metadata": {
  "kernelspec": {
   "display_name": "Python 3 (ipykernel)",
   "language": "python",
   "name": "python3"
  },
  "language_info": {
   "codemirror_mode": {
    "name": "ipython",
    "version": 3
   },
   "file_extension": ".py",
   "mimetype": "text/x-python",
   "name": "python",
   "nbconvert_exporter": "python",
   "pygments_lexer": "ipython3",
   "version": "3.11.9"
  }
 },
 "nbformat": 4,
 "nbformat_minor": 5
}
